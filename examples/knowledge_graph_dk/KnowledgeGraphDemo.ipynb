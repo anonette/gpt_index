{
 "cells": [
  {
   "cell_type": "code",
   "execution_count": 29,
   "id": "f1a9eb90-335c-4214-8bb6-fd1edbe3ccbd",
   "metadata": {},
   "outputs": [],
   "source": [
    "# My OpenAI Key\n",
    "import os\n",
    "# read key from file\n",
    "with open('..\\..\\.env', 'r') as fp:\n",
    "    os.environ['OPENAI_API_KEY'] = fp.read().strip()"
   ]
  },
  {
   "cell_type": "code",
   "execution_count": 30,
   "id": "88a9f2e3-c729-455a-a338-2f83776c1d4c",
   "metadata": {},
   "outputs": [],
   "source": [
    "import logging\n",
    "import sys\n",
    "\n",
    "logging.basicConfig(stream=sys.stdout, level=logging.INFO)"
   ]
  },
  {
   "cell_type": "markdown",
   "id": "be3f7baa-1c0a-430b-981b-83ddca9e71f2",
   "metadata": {
    "tags": []
   },
   "source": [
    "## Using Knowledge Graph"
   ]
  },
  {
   "cell_type": "markdown",
   "id": "75f1d565-04e8-41bc-9165-166dc89b6b47",
   "metadata": {},
   "source": [
    "#### Building the Knowledge Graph"
   ]
  },
  {
   "cell_type": "code",
   "execution_count": 31,
   "id": "8d0b2364-4806-4656-81e7-3f6e4b910b5b",
   "metadata": {},
   "outputs": [],
   "source": [
    "from gpt_index import SimpleDirectoryReader, LLMPredictor\n",
    "from gpt_index.indices.knowledge_graph.base import GPTKnowledgeGraphIndex\n",
    "from langchain import OpenAI\n",
    "from IPython.display import Markdown, display"
   ]
  },
  {
   "cell_type": "code",
   "execution_count": 32,
   "id": "1c297fd3-3424-41d8-9d0d-25fe6310ab62",
   "metadata": {
    "tags": []
   },
   "outputs": [],
   "source": [
    "documents = SimpleDirectoryReader('../dk_b/data').load_data()"
   ]
  },
  {
   "cell_type": "code",
   "execution_count": 33,
   "id": "61679142-7595-492b-8792-26cbc439caf8",
   "metadata": {},
   "outputs": [],
   "source": [
    "# define LLM\n",
    "# NOTE: at the time of demo, text-davinci-002 did not have rate-limit errors\n",
    "llm_predictor = LLMPredictor(llm=OpenAI(temperature=0, model_name=\"text-davinci-002\"))"
   ]
  },
  {
   "cell_type": "code",
   "execution_count": 34,
   "id": "370fd08f-56ff-4c24-b0c4-c93116a6d482",
   "metadata": {
    "tags": []
   },
   "outputs": [
    {
     "name": "stdout",
     "output_type": "stream",
     "text": [
      "INFO:root:> [build_index_from_documents] Total LLM token usage: 191147 tokens\n",
      "INFO:root:> [build_index_from_documents] Total embedding token usage: 0 tokens\n"
     ]
    }
   ],
   "source": [
    "# NOTE: can take a while! \n",
    "index = GPTKnowledgeGraphIndex(\n",
    "    documents, \n",
    "    chunk_size_limit=512, \n",
    "    max_triplets_per_chunk=2,\n",
    "    llm_predictor=llm_predictor\n",
    ")"
   ]
  },
  {
   "cell_type": "code",
   "execution_count": 35,
   "id": "0b4fe9b6-5762-4e86-b51e-aac45d3ecdb1",
   "metadata": {},
   "outputs": [],
   "source": [
    "index.save_to_disk('index_dk.json')"
   ]
  },
  {
   "cell_type": "code",
   "execution_count": 36,
   "id": "5eec265d-211b-4f26-b05b-5b4e7072bc6e",
   "metadata": {},
   "outputs": [],
   "source": [
    "# try loading\n",
    "new_index = GPTKnowledgeGraphIndex.load_from_disk('index_dk.json', llm_predictor=llm_predictor)"
   ]
  },
  {
   "cell_type": "markdown",
   "id": "c39a0eeb-ef16-4982-8ba8-b37c2c5f4437",
   "metadata": {},
   "source": [
    "#### Querying the Knowledge Graph"
   ]
  },
  {
   "cell_type": "code",
   "execution_count": 37,
   "id": "670300d8-d0a8-4201-bbcd-4a74b199fcdd",
   "metadata": {},
   "outputs": [
    {
     "name": "stdout",
     "output_type": "stream",
     "text": [
      "INFO:root:> Starting query: Tell me more about protoyping\n",
      "INFO:root:> Query keywords: ['definition', 'stages', 'advantages', 'Prototyping', 'disadvantages', 'process']\n",
      "INFO:root:> Extracted relationships: The following are knowledge triplets in the form of (subset, predicate, object):\n",
      "('Prototyping', 'as an opportunity', 'to transform the future')\n",
      "('Prototyping', 'driven by', 'curiosity')\n",
      "('Prototyping', 'drives', 'curiosity')\n",
      "('Prototyping', 'connects', 'knowledge and living')\n",
      "('Prototyping', 'materializes', 'futures')\n",
      "('Prototyping', 'without teleology becomes', 'plea for agency and freedom')\n",
      "('Prototyping', 'transforms', 'society')\n",
      "('Prototyping', 'is', 'model for governance')\n",
      "('Prototyping', 'revives values of', 'artisanal knowledge')\n",
      "('Prototyping', 'becomes', 'receptacle')\n",
      "('Prototyping', 'supports', 'existing structures')\n",
      "('Prototyping', 'provokes us to imagine', 'a state based on something other than religion')\n",
      "('Prototyping', 'serves', 'many functions')\n",
      "('Prototyping', 'an expression of', 'Kairos')\n",
      "('Prototyping', 'opposes', 'Chronos')\n",
      "('Prototyping', 'is', 'an expression of Kairos')\n",
      "('Prototyping', 'defines the agency as', 'an ability to step outside the status quo')\n",
      "('Prototyping', 'supports', 'experimental governance')\n",
      "('Prototyping', 'creates', 'tools')\n",
      "('Prototyping', 'allows', 'individuals to monopolize')\n",
      "('Prototyping', 'is', 'form of \"doing\" philosophy')\n",
      "('Prototyping', 'creating', 'community')\n",
      "INFO:root:> Building index from nodes: 0 chunks\n",
      "INFO:root:> [query] Total LLM token usage: 666 tokens\n",
      "INFO:root:> [query] Total embedding token usage: 0 tokens\n"
     ]
    }
   ],
   "source": [
    "response = new_index.query(\n",
    "    \"Tell me more about protoyping\", \n",
    "    include_text=False, \n",
    "    response_mode=\"tree_summarize\"\n",
    ")"
   ]
  },
  {
   "cell_type": "code",
   "execution_count": 38,
   "id": "eecf2d57-3efa-4b0d-941a-95438d42893c",
   "metadata": {},
   "outputs": [
    {
     "data": {
      "text/markdown": [
       "<b>\n",
       "Prototyping is a form of \"doing\" philosophy that allows individuals to monopolize the creation of tools and community. It is an expression of Kairos, which opposes Chronos.</b>"
      ],
      "text/plain": [
       "<IPython.core.display.Markdown object>"
      ]
     },
     "metadata": {},
     "output_type": "display_data"
    }
   ],
   "source": [
    "display(Markdown(f\"<b>{response}</b>\"))"
   ]
  },
  {
   "cell_type": "code",
   "execution_count": 39,
   "id": "bd14686d-1c53-4637-9340-3745f2121ae2",
   "metadata": {},
   "outputs": [
    {
     "name": "stdout",
     "output_type": "stream",
     "text": [
      "INFO:root:> Starting query: tell me more about sandboxes\n",
      "INFO:root:> Query keywords: ['more', 'tell', 'sandboxes']\n",
      "INFO:root:> Querying with idx: 0eb13328-472a-4195-ac53-12f53aae8e71: Inspired by the liminal environments of Chapter 3 and the forgotten history o...\n",
      "INFO:root:> Querying with idx: 8a7b4c7c-33f8-4465-9c0a-eedc8e086904: al., 2021), sandboxes allow tactical and hybrid decisions on values and code....\n",
      "INFO:root:> Querying with idx: da3c994e-a4ff-4aa7-8eee-6212ecf4a567: resignation upon innovation in the name of the\n",
      "public good. Instead of replac...\n",
      "INFO:root:> Querying with idx: 2aa0f27a-0fb7-4e7f-ad7b-e00fefd64b8c: ethnography and genealogy provides examples for the proposal\n",
      "for sandboxes as...\n",
      "INFO:root:> Querying with idx: c98657e6-f85e-4b47-b992-2351d66a7a60: any regulatory\n",
      "force or domain (market, culture, technology, or law).\n",
      "4.2 Exp...\n",
      "INFO:root:> Querying with idx: 7d8aaf5c-af48-4866-9f59-36c58bb176a7: governance.\n",
      "     The fantasies of algorithmic rule and automation reverse the...\n",
      "INFO:root:> Querying with idx: 16ab5a08-8be0-4acd-872b-2220262ac028: understanding of the possibilities and challenges of\n",
      "technology. By acting li...\n",
      "INFO:root:> Querying with idx: 6fb1f62d-e42d-494d-b5b8-2212b8abc0d5: Chapter 2 and the ethnography of hackerspaces in\n",
      "Chapter 3, we see sandboxes ...\n",
      "INFO:root:> Querying with idx: ed0d2416-9fdc-468b-b955-8c36ef487d70: to\n",
      "guarantee survival rather than justice or any value? How to rethink algori...\n",
      "INFO:root:> Querying with idx: d590f2bb-fb5d-499f-8bd8-88df65949566: knowledge of old reality, but of a new reality seeking a conceptual framework...\n",
      "INFO:root:> Extracted relationships: The following are knowledge triplets in the form of (subset, predicate, object):\n",
      "('sandboxes', 'support', 'prototypes')\n",
      "('sandboxes', 'are', 'participatory environments')\n",
      "('sandboxes', 'facilitate', 'uses of new technologies')\n",
      "('sandboxes', 'are', 'environments')\n",
      "('sandboxes', 'support', 'explorations')\n",
      "('sandboxes', 'preserve differences between', 'questions of governance and computing')\n",
      "('sandboxes', 'prevent reduction to', 'one side')\n",
      "('sandboxes', 'enable', 'decisions and experiments')\n",
      "('sandboxes', 'are', 'liminal environments')\n",
      "('sandboxes', 'extend this function of important metaphors', 'emphasizing agency')\n",
      "('sandboxes', 'allow', 'technological innovation')\n",
      "('sandboxes', 'support', \"regulation of 'disruptive' technologies\")\n",
      "('sandboxes', 'create', 'controlled environment')\n",
      "('sandboxes', 'allow', 'tactical and hybrid decisions')\n",
      "('sandboxes', 'make decisions about', 'which values and interests to implement in the code')\n",
      "('sandboxes', 'offer', 'alternative')\n",
      "('sandboxes', 'prevent', 'arbitrary excesses')\n",
      "('sandboxes', 'support', 'temporary and even plural futures')\n",
      "('sandboxes', 'emphasize', 'agency and capacity for transformation')\n",
      "('sandboxes', 'offer', 'model')\n",
      "('sandboxes', 'enable', 'participation')\n",
      "('sandboxes', 'support', 'participatory design')\n",
      "('sandboxes', 'support', 'experimental governance')\n",
      "('sandboxes', 'offer', 'trading zone')\n",
      "INFO:root:> Building index from nodes: 1 chunks\n",
      "INFO:root:> [query] Total LLM token usage: 5399 tokens\n",
      "INFO:root:> [query] Total embedding token usage: 0 tokens\n"
     ]
    }
   ],
   "source": [
    "response = new_index.query(\n",
    "    \"tell me more about sandboxes\", \n",
    "    include_text=True, \n",
    "    response_mode=\"tree_summarize\"\n",
    ")"
   ]
  },
  {
   "cell_type": "code",
   "execution_count": 40,
   "id": "b4c87d14-d2d8-4d80-89f6-1e5972973528",
   "metadata": {},
   "outputs": [
    {
     "data": {
      "text/markdown": [
       "<b>\n",
       "Sandboxes are temporary and experimental environments that allow stakeholders to negotiate and define common goals for the future. They prevent the monopolization of the future by one set of interests and values, and emphasize the experience of Kairos, agency, and capacity for transformation.\n",
       "\n",
       "Sandboxes are environments where governance meets prototyping. They are liminal environments that support explorations of the material, social, and technological conditions of governance over prototypes. Sandboxes can be used to test out new technologies and ideas in a controlled environment, which can help prevent arbitrary excesses and support temporary and even plural futures.</b>"
      ],
      "text/plain": [
       "<IPython.core.display.Markdown object>"
      ]
     },
     "metadata": {},
     "output_type": "display_data"
    }
   ],
   "source": [
    "display(Markdown(f\"<b>{response}</b>\"))"
   ]
  },
  {
   "cell_type": "markdown",
   "id": "cd582500-584c-409a-9963-921738f1beb8",
   "metadata": {},
   "source": [
    "#### Visualizing the Graph"
   ]
  },
  {
   "cell_type": "code",
   "execution_count": 41,
   "id": "b9fe3d26-4f9a-4651-b83f-0018672a34e4",
   "metadata": {},
   "outputs": [
    {
     "data": {
      "text/html": [
       "\n",
       "        <iframe\n",
       "            width=\"100%\"\n",
       "            height=\"600px\"\n",
       "            src=\"dk_graph.html\"\n",
       "            frameborder=\"0\"\n",
       "            allowfullscreen\n",
       "            \n",
       "        ></iframe>\n",
       "        "
      ],
      "text/plain": [
       "<IPython.lib.display.IFrame at 0x276f7f4c970>"
      ]
     },
     "execution_count": 41,
     "metadata": {},
     "output_type": "execute_result"
    }
   ],
   "source": [
    "## create graph\n",
    "from pyvis.network import Network\n",
    "\n",
    "g = new_index.get_networkx_graph()\n",
    "net = Network(notebook=True, cdn_resources=\"in_line\", directed=True)\n",
    "net.from_nx(g)\n",
    "net.show(\"dk_graph.html\")"
   ]
  },
  {
   "cell_type": "code",
   "execution_count": null,
   "id": "7c2d09ee-22eb-475f-9aed-60f85a2b572f",
   "metadata": {},
   "outputs": [],
   "source": []
  }
 ],
 "metadata": {
  "kernelspec": {
   "display_name": "ing",
   "language": "python",
   "name": "python3"
  },
  "language_info": {
   "codemirror_mode": {
    "name": "ipython",
    "version": 3
   },
   "file_extension": ".py",
   "mimetype": "text/x-python",
   "name": "python",
   "nbconvert_exporter": "python",
   "pygments_lexer": "ipython3",
   "version": "3.9.16"
  },
  "vscode": {
   "interpreter": {
    "hash": "718d7dbe35c2992c4ad99e266b72ad7faf17c8703569c5eaa3b1bb48bc338eee"
   }
  }
 },
 "nbformat": 4,
 "nbformat_minor": 5
}
